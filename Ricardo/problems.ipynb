{
    "cells": [
        {
            "cell_type": "markdown",
            "id": "ac622319",
            "metadata": {},
            "source": [
                "# Descriptive statistics problems"
            ]
        },
        {
            "cell_type": "markdown",
            "id": "aa8993e4",
            "metadata": {},
            "source": [
                "### Exercise 1"
            ]
        },
        {
            "cell_type": "markdown",
            "id": "5e0ab0d5",
            "metadata": {},
            "source": [
                "We will use Numpy to obtain information to describe statistically.\n",
                "\n",
                "- Generate an array of 100 elements following a normal distribution.\n",
                "- Generate an array of 100 elements following a chi-square distribution with 3 degrees of freedom.\n",
                "- Calculate the main metrics and statistical measures that best describe the two vectors."
            ]
        },
        {
            "cell_type": "code",
            "execution_count": 1,
            "id": "34720ab6",
            "metadata": {},
            "outputs": [
                {
                    "name": "stdout",
                    "output_type": "stream",
                    "text": [
                        "The mean of element 1 is 0.059808015534485\n",
                        "The Standard Deviation of element 1 is 1.0078822447165796\n",
                        "The mean of element 2 is 3.001840622161374\n",
                        "The Standard Deviation of element 2 is 2.3916810312486882\n"
                    ]
                }
            ],
            "source": [
                "import numpy as np\n",
                "\n",
                "np.random.seed(0)\n",
                "\n",
                "elements1 = np.random.normal(size=100)\n",
                "elements2 = np.random.chisquare(df=3, size=100)\n",
                "\n",
                "elements1_mean = np.mean(elements1)\n",
                "elements2_mean = np.mean(elements2)\n",
                "\n",
                "elements1_std = np.std(elements1)\n",
                "elements2_std = np.std(elements2)\n",
                "\n",
                "print(f\"The mean of element 1 is {elements1_mean}\")\n",
                "print(f\"The Standard Deviation of element 1 is {elements1_std}\")\n",
                "print(f\"The mean of element 2 is {elements2_mean}\")\n",
                "print(f\"The Standard Deviation of element 2 is {elements2_std}\")\n"
            ]
        },
        {
            "cell_type": "markdown",
            "id": "46c70c3d",
            "metadata": {},
            "source": [
                "### Exercise 2\n",
                "\n",
                "Write a Python program to calculate the standard deviation of the following data:\n",
                "\n",
                "```py\n",
                "data = [4, 2, 5, 8, 6]\n",
                "```"
            ]
        },
        {
            "cell_type": "code",
            "execution_count": 2,
            "id": "d590308e",
            "metadata": {},
            "outputs": [
                {
                    "name": "stdout",
                    "output_type": "stream",
                    "text": [
                        "Standard Deviation: 2.0\n"
                    ]
                }
            ],
            "source": [
                "data = [4, 2, 5, 8, 6]\n",
                "\n",
                "\n",
                "mean = sum(data) / len(data)\n",
                "\n",
                "variance = sum((x - mean) ** 2 for x in data) / len(data)\n",
                "\n",
                "standard_deviation = variance ** 0.5\n",
                "\n",
                "print(\"Standard Deviation:\", standard_deviation)"
            ]
        }
    ],
    "metadata": {
        "interpreter": {
            "hash": "9248718ffe6ce6938b217e69dbcc175ea21f4c6b28a317e96c05334edae734bb"
        },
        "kernelspec": {
            "display_name": "Python 3.9.12 ('ML-BOOTCAMP')",
            "language": "python",
            "name": "python3"
        },
        "language_info": {
            "codemirror_mode": {
                "name": "ipython",
                "version": 3
            },
            "file_extension": ".py",
            "mimetype": "text/x-python",
            "name": "python",
            "nbconvert_exporter": "python",
            "pygments_lexer": "ipython3",
            "version": "3.11.4"
        }
    },
    "nbformat": 4,
    "nbformat_minor": 5
}
