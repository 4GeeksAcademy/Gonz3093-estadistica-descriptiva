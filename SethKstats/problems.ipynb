{
    "cells": [
        {
            "cell_type": "markdown",
            "id": "ac622319",
            "metadata": {},
            "source": [
                "# Descriptive statistics problems"
            ]
        },
        {
            "cell_type": "markdown",
            "id": "aa8993e4",
            "metadata": {},
            "source": [
                "### Exercise 1"
            ]
        },
        {
            "cell_type": "markdown",
            "id": "5e0ab0d5",
            "metadata": {},
            "source": [
                "We will use Numpy to obtain information to describe statistically.\n",
                "\n",
                "- Generate an array of 100 elements following a normal distribution.\n",
                "- Generate an array of 100 elements following a chi-square distribution with 3 degrees of freedom.\n",
                "- Calculate the main metrics and statistical measures that best describe the two vectors."
            ]
        },
        {
            "cell_type": "code",
            "execution_count": 38,
            "id": "34720ab6",
            "metadata": {},
            "outputs": [],
            "source": [
                "import numpy as np\n",
                "import statistics as stats\n",
                "from scipy.stats import skew\n",
                "from scipy.stats import kurtosis\n",
                "\n",
                "np.random.seed(0)\n",
                "\n",
                "norm = np.random.normal(size = 100) # This creates an array of 100 elements that have a normal distribution\n",
                "chisq = np.random.chisquare(3, 100) # This creates an array of 100 elements the have a chi-square distribution with 3 degrees of freedom\n",
                "\n",
                "\n",
                "\n",
                "\n"
            ]
        },
        {
            "cell_type": "code",
            "execution_count": 39,
            "id": "d643f90d",
            "metadata": {},
            "outputs": [
                {
                    "name": "stdout",
                    "output_type": "stream",
                    "text": [
                        "Normal mean: 0.05980801553448498\n",
                        "Chi mean: 3.0018406221613745\n"
                    ]
                }
            ],
            "source": [
                "#What we are doing here is generating the mean to help describe the two vectors. \n",
                "print(f\"Normal mean: {stats.mean(norm)}\") \n",
                "print(f\"Chi mean: {stats.mean(chisq)}\")"
            ]
        },
        {
            "cell_type": "code",
            "execution_count": 40,
            "id": "81a01c51",
            "metadata": {},
            "outputs": [
                {
                    "name": "stdout",
                    "output_type": "stream",
                    "text": [
                        "Normal median: 0.09409611943799814\n",
                        "Chi median: 2.3645115337568323\n"
                    ]
                }
            ],
            "source": [
                "#What we are doing here is generating the median  to help describe the two vectors. \n",
                "print(f\"Normal median: {stats.median(norm)}\")\n",
                "print(f\"Chi median: {stats.median(chisq)}\")"
            ]
        },
        {
            "cell_type": "code",
            "execution_count": 41,
            "id": "0c9e8edc",
            "metadata": {},
            "outputs": [
                {
                    "name": "stdout",
                    "output_type": "stream",
                    "text": [
                        "Normal median: 1.764052345967664\n",
                        "Chi median: 9.223556454255386\n"
                    ]
                }
            ],
            "source": [
                "#What we are doing here is generating the mode to help describe the two vectors. \n",
                "print(f\"Normal median: {stats.mode(norm)}\")\n",
                "print(f\"Chi median: {stats.mode(chisq)}\")"
            ]
        },
        {
            "cell_type": "code",
            "execution_count": 42,
            "id": "df442447",
            "metadata": {},
            "outputs": [
                {
                    "name": "stdout",
                    "output_type": "stream",
                    "text": [
                        "Normal range: 4.822744439821687\n",
                        "Normal chi: 11.255784308217786\n"
                    ]
                }
            ],
            "source": [
                "#We now will calculate the range which is the max - the min\n",
                "#We find the range for the normal distribution\n",
                "norm_range = max(norm) - min(norm)\n",
                "#Now we find the range for chi-square\n",
                "chisq_range =  max(chisq) - min(chisq)\n",
                "\n",
                "#Now print our results \n",
                "print(f\"Normal range: {norm_range}\")\n",
                "print(f\"Normal chi: {chisq_range}\")\n"
            ]
        },
        {
            "cell_type": "code",
            "execution_count": 43,
            "id": "832123a7",
            "metadata": {},
            "outputs": [
                {
                    "name": "stdout",
                    "output_type": "stream",
                    "text": [
                        "Normal variance: 1.0260874941564964 and std: 1.0129597692685017\n",
                        "Chi variance: 5.777917328519989 and std: 2.403729878443081\n"
                    ]
                }
            ],
            "source": [
                "#Now we find the variance and standar deviation\n",
                "var_normal = stats.variance(norm)\n",
                "std_normal = stats.stdev(norm)\n",
                "var_chi = stats.variance(chisq)\n",
                "std_chi = stats.stdev(chisq)\n",
                "\n",
                "print(f\"Normal variance: {var_normal} and std: {std_normal}\")\n",
                "print(f\"Chi variance: {var_chi} and std: {std_chi}\")"
            ]
        },
        {
            "cell_type": "code",
            "execution_count": 44,
            "id": "379a56bb",
            "metadata": {},
            "outputs": [
                {
                    "name": "stdout",
                    "output_type": "stream",
                    "text": [
                        "Normal skewness: 0.005171839713550013\n",
                        "Chi skewness: 1.342791266776593\n"
                    ]
                }
            ],
            "source": [
                "skew_normal = skew(norm)\n",
                "skew_chi = skew(chisq)\n",
                "\n",
                "print(f\"Normal skewness: {skew_normal}\")\n",
                "print(f\"Chi skewness: {skew_chi}\")"
            ]
        },
        {
            "cell_type": "code",
            "execution_count": 45,
            "id": "06427a31",
            "metadata": {},
            "outputs": [
                {
                    "name": "stdout",
                    "output_type": "stream",
                    "text": [
                        "Normal kurtosis: -0.3783545566331328\n",
                        "Chi kurtosis: 1.6572033096538448\n"
                    ]
                }
            ],
            "source": [
                "kurt_normal = kurtosis(norm)\n",
                "kurt_chi = kurtosis(chisq)\n",
                "\n",
                "print(f\"Normal kurtosis: {kurt_normal}\")\n",
                "print(f\"Chi kurtosis: {kurt_chi}\")\n"
            ]
        },
        {
            "cell_type": "markdown",
            "id": "46c70c3d",
            "metadata": {},
            "source": [
                "### Exercise 2\n",
                "\n",
                "Write a Python program to calculate the standard deviation of the following data:\n",
                "\n",
                "```py\n",
                "data = [4, 2, 5, 8, 6]\n",
                "```"
            ]
        },
        {
            "cell_type": "code",
            "execution_count": 4,
            "id": "d590308e",
            "metadata": {},
            "outputs": [
                {
                    "name": "stdout",
                    "output_type": "stream",
                    "text": [
                        "Sample Data: [4, 2, 5, 8, 6]\n",
                        "2.23606797749979\n"
                    ]
                }
            ],
            "source": [
                "import math\n",
                "import sys\n",
                "import statistics as stats\n",
                "\n",
                "# Define the standard deviation function\n",
                "\n",
                "def sd_func(data):\n",
                "    n = len(data)\n",
                "\n",
                "    if (n <= 1):\n",
                "        return 0.0\n",
                "\n",
                "    mean, sd = avg_func(data), 0.0\n",
                "\n",
                "    for d in data:\n",
                "        sd += (float(d) - mean) ** 2\n",
                "    sd = math.sqrt(sd / float(n - 1))\n",
                "\n",
                "    return sd\n",
                "\n",
                "def avg_func(data):\n",
                "    n, mean = len(data), 0.0\n",
                "\n",
                "    if (n <= 1):\n",
                "        return data[0]\n",
                "\n",
                "    for d in data:\n",
                "        mean = mean + float(d)\n",
                "\n",
                "    mean = mean / float(n)\n",
                "    return mean\n",
                "\n",
                "#The f inside the print function allows for efficent formatting\n",
                "#The sample data is our  data being tested and given\n",
                "#When sd_func is called, it will find the standard deviation for our  data\n",
                "\n",
                "data = [4, 2, 5, 8, 6]\n",
                "print(f\"Sample Data: {data}\")\n",
                "#print(f\"Standard Deviation: {sd_func(data)}\")\n",
                "print(stats.stdev(data))\n"
            ]
        }
    ],
    "metadata": {
        "interpreter": {
            "hash": "9248718ffe6ce6938b217e69dbcc175ea21f4c6b28a317e96c05334edae734bb"
        },
        "kernelspec": {
            "display_name": "Python 3.9.12 ('ML-BOOTCAMP')",
            "language": "python",
            "name": "python3"
        },
        "language_info": {
            "codemirror_mode": {
                "name": "ipython",
                "version": 3
            },
            "file_extension": ".py",
            "mimetype": "text/x-python",
            "name": "python",
            "nbconvert_exporter": "python",
            "pygments_lexer": "ipython3",
            "version": "3.11.4"
        }
    },
    "nbformat": 4,
    "nbformat_minor": 5
}
