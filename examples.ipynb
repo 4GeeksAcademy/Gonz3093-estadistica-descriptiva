{
    "cells": [
        {
            "cell_type": "markdown",
            "id": "ac622319",
            "metadata": {},
            "source": [
                "# Descriptive statistics examples"
            ]
        },
        {
            "cell_type": "markdown",
            "id": "aa8993e4",
            "metadata": {},
            "source": [
                "### Example 1"
            ]
        },
        {
            "cell_type": "markdown",
            "id": "5e0ab0d5",
            "metadata": {},
            "source": [
                "Show by coding one example that the mean is the estimator with the Minimum Square Error and give the intuiton on that.\n",
                "\n",
                "Note:\n",
                "\n",
                "$$\n",
                "MSE=\\sum_{i=1}^{n}(X_{i}-\\mu)^2\n",
                "$$\n",
                "\n",
                "Consider the following array `X=[3,5,6,3,1,5,7,9,5,4]`"
            ]
        },
        {
            "cell_type": "code",
            "execution_count": 5,
            "id": "34720ab6",
            "metadata": {},
            "outputs": [
                {
                    "name": "stdout",
                    "output_type": "stream",
                    "text": [
                        "Estimated mu: 4.799999977760703\n",
                        "Minimum MSE: 45.6\n",
                        "Populational mu: 4.8\n"
                    ]
                }
            ],
            "source": [
                "# TODO\n"
            ]
        },
        {
            "cell_type": "markdown",
            "id": "46c70c3d",
            "metadata": {},
            "source": [
                "### Example 2\n",
                "\n",
                "Consider this data:\n",
                "````\n",
                "import numpy as np\n",
                "import matplotlib.pyplot as plt\n",
                "\n",
                "# Set a seed for reproducibility\n",
                "np.random.seed(0)\n",
                "\n",
                "# Generate left-skewed data using the gamma distribution\n",
                "shape = 2  # Shape parameter (controls skewness, adjust as needed)\n",
                "scale = 1  # Scale parameter (controls spread, adjust as needed)\n",
                "size = 1000  # Number of data points\n",
                "\n",
                "# Generate left-skewed data\n",
                "data = np.random.gamma(shape, scale, size)\n",
                "\n",
                "# Create a histogram\n",
                "plt.hist(data, bins=30, density=True, alpha=0.6, color='b', label='Left-Skewed Data')\n",
                "\n",
                "# Add labels and a legend\n",
                "plt.xlabel('Value')\n",
                "plt.ylabel('Frequency')\n",
                "plt.title('Left-Skewed Distribution')\n",
                "plt.legend(loc='upper right')\n",
                "\n",
                "# Show the plot\n",
                "plt.show()\n",
                "````\n",
                "\n",
                "1. Run the code.\n",
                "2. Shows that the distribution of the mean will follow a normal distribution"
            ]
        },
        {
            "cell_type": "code",
            "execution_count": 18,
            "id": "d590308e",
            "metadata": {},
            "outputs": [],
            "source": [
                "# TODO"
            ]
        },
        {
            "cell_type": "markdown",
            "id": "00a7f40c",
            "metadata": {},
            "source": [
                "### Example 3\n",
                "\n",
                "Consider this data:\n",
                "````\n",
                "import numpy as np\n",
                "import matplotlib.pyplot as plt\n",
                "\n",
                "# Set a seed for reproducibility\n",
                "np.random.seed(0)\n",
                "\n",
                "# Parameters for the uniform distribution\n",
                "low = 0  # Lower bound\n",
                "high = 10  # Upper bound\n",
                "size = 1000  # Number of data points\n",
                "\n",
                "# Generate random data from a uniform distribution\n",
                "data = np.random.uniform(low, high, size)\n",
                "\n",
                "# Create a histogram\n",
                "plt.hist(data, bins=30, density=True, alpha=0.6, color='b', label='Uniform Data')\n",
                "\n",
                "# Add labels and a legend\n",
                "plt.xlabel('Value')\n",
                "plt.ylabel('Frequency')\n",
                "plt.title('Uniform Distribution')\n",
                "plt.legend(loc='upper right')\n",
                "\n",
                "# Show the plot\n",
                "plt.show()\n",
                "````\n",
                "\n",
                "1. Run the code.\n",
                "2. Shows that the distribution of the mean will follow a normal distribution"
            ]
        },
        {
            "cell_type": "code",
            "execution_count": 17,
            "id": "12f8030c",
            "metadata": {},
            "outputs": [],
            "source": [
                "# TODO\n"
            ]
        },
        {
            "cell_type": "markdown",
            "id": "2767a3c8",
            "metadata": {},
            "source": [
                "### Example 4\n",
                "\n",
                "1. Simulate a normal distribution\n",
                "2. Plot the histogram and add a vertical line for the mean and median.\n",
                "3. Begin to add outliers and see how the mean, median and mode are affected.\n"
            ]
        },
        {
            "cell_type": "code",
            "execution_count": 33,
            "id": "214ecc0d",
            "metadata": {},
            "outputs": [
                {
                    "data": {
                        "image/png": "[encoded data removed]",
                        "text/plain": [
                            "<Figure size 640x480 with 1 Axes>"
                        ]
                    },
                    "metadata": {},
                    "output_type": "display_data"
                }
            ],
            "source": [
                "# TODO\n"
            ]
        },
        {
            "cell_type": "code",
            "execution_count": null,
            "id": "0ea06451",
            "metadata": {},
            "outputs": [],
            "source": []
        },
        {
            "cell_type": "code",
            "execution_count": null,
            "id": "a0e55e5c",
            "metadata": {},
            "outputs": [],
            "source": []
        }
    ],
    "metadata": {
        "interpreter": {
            "hash": "9248718ffe6ce6938b217e69dbcc175ea21f4c6b28a317e96c05334edae734bb"
        },
        "kernelspec": {
            "display_name": "Python 3.9.12 ('ML-BOOTCAMP')",
            "language": "python",
            "name": "python3"
        },
        "language_info": {
            "codemirror_mode": {
                "name": "ipython",
                "version": 3
            },
            "file_extension": ".py",
            "mimetype": "text/x-python",
            "name": "python",
            "nbconvert_exporter": "python",
            "pygments_lexer": "ipython3",
            "version": "3.11.4"
        }
    },
    "nbformat": 4,
    "nbformat_minor": 5
}
