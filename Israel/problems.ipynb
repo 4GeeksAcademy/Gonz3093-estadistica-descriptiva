{
    "cells": [
        {
            "cell_type": "markdown",
            "id": "ac622319",
            "metadata": {},
            "source": [
                "# Descriptive statistics problems"
            ]
        },
        {
            "cell_type": "markdown",
            "id": "aa8993e4",
            "metadata": {},
            "source": [
                "### Exercise 1"
            ]
        },
        {
            "cell_type": "markdown",
            "id": "5e0ab0d5",
            "metadata": {},
            "source": [
                "We will use Numpy to obtain information to describe statistically.\n",
                "\n",
                "- Generate an array of 100 elements following a normal distribution.\n",
                "- Generate an array of 100 elements following a chi-square distribution with 3 degrees of freedom.\n",
                "- Calculate the main metrics and statistical measures that best describe the two vectors."
            ]
        },
        {
            "cell_type": "code",
            "execution_count": 2,
            "id": "34720ab6",
            "metadata": {},
            "outputs": [
                {
                    "data": {
                        "text/plain": [
                            "Text(0.5, 1.0, 'Chi-square Distribution')"
                        ]
                    },
                    "execution_count": 2,
                    "metadata": {},
                    "output_type": "execute_result"
                },
                {
                    "data": {
                        "image/png": "[encoded data removed]",
                        "text/plain": [
                            "<Figure size 640x480 with 2 Axes>"
                        ]
                    },
                    "metadata": {},
                    "output_type": "display_data"
                }
            ],
            "source": [
                "import numpy as np\n",
                "import matplotlib.pyplot as plt\n",
                "\n",
                "np.random.seed(7)\n",
                "\n",
                "array1 = np.random.normal(size = 100)\n",
                "array2 = np.random.chisquare(3, 100)\n",
                "\n",
                "fig, (ax1, ax2) = plt.subplots(1,2)\n",
                "ax1.hist(array1)\n",
                "ax1.set_title(\"Normal Distribution\")\n",
                "ax2.hist(array2)\n",
                "ax2.set_title(\"Chi-square Distribution\")\n",
                "\n",
                "\n"
            ]
        },
        {
            "cell_type": "code",
            "execution_count": 5,
            "id": "95552460",
            "metadata": {},
            "outputs": [
                {
                    "name": "stdout",
                    "output_type": "stream",
                    "text": [
                        "Normal Mean: 0.012065424517735459\n",
                        "Chi-square Mean: 2.928575498384853\n",
                        "\n",
                        "Normal Median: -0.06576545576857008\n",
                        "Chi-square Median: 2.382302084548116\n",
                        "\n",
                        "Normal Mode: 1.690525703800356\n",
                        "Chi-square Mode: 0.9197430988873622\n",
                        "\n"
                    ]
                }
            ],
            "source": [
                "import statistics as stats\n",
                "\n",
                "### MEAN ###\n",
                "print(f\"Normal Mean: {stats.mean(array1)}\")\n",
                "print(f\"Chi-square Mean: {stats.mean(array2)}\")\n",
                "print()\n",
                "\n",
                "### MEDIAN ###\n",
                "print(f\"Normal Median: {stats.median(array1)}\")\n",
                "print(f\"Chi-square Median: {stats.median(array2)}\")\n",
                "print()\n",
                "\n",
                "### MODE ###\n",
                "print(f\"Normal Mode: {stats.mode(array1)}\")\n",
                "print(f\"Chi-square Mode: {stats.mode(array2)}\")\n",
                "print()"
            ]
        },
        {
            "cell_type": "code",
            "execution_count": 7,
            "id": "61808660",
            "metadata": {},
            "outputs": [
                {
                    "name": "stdout",
                    "output_type": "stream",
                    "text": [
                        "Normal range: 4.548262088597983\n",
                        "Chi-square range: 10.072765473935583\n",
                        "\n",
                        "Normal variance: 1.04831339674988 and stdev: 1.023871767727717\n",
                        "Chi variance: 4.865280734391722 and stdev: 2.2057381382185244\n"
                    ]
                }
            ],
            "source": [
                "### RANGE ###\n",
                "range_normal = max(array1) - min(array1)\n",
                "range_chi = max(array2) - min(array2)\n",
                "print(f\"Normal range: {range_normal}\")\n",
                "print(f\"Chi-square range: {range_chi}\")\n",
                "print()\n",
                "\n",
                "### VARIENCE and STD DEVEATION ### \n",
                "normal_varience = stats.variance(array1)\n",
                "chi_varience = stats.variance(array2)\n",
                "normal_stdev = stats.stdev(array1)\n",
                "chi_stdev = stats.stdev(array2)\n",
                "print(f\"Normal variance: {normal_varience} and stdev: {normal_stdev}\")\n",
                "print(f\"Chi variance: {chi_varience} and stdev: {chi_stdev}\")"
            ]
        },
        {
            "cell_type": "code",
            "execution_count": 9,
            "id": "491c2e42",
            "metadata": {},
            "outputs": [
                {
                    "name": "stdout",
                    "output_type": "stream",
                    "text": [
                        "Normal skew is: 0.04690455383857406\n",
                        "Chi-sq skew is: 1.1498285247258326\n",
                        "\n",
                        "Normal kurtosis is: -0.348889587599734\n",
                        "Chi kurtosis is: 0.9091378874561746\n"
                    ]
                }
            ],
            "source": [
                "from scipy.stats import skew\n",
                "from scipy.stats import kurtosis\n",
                "\n",
                "### SKEW ###\n",
                "normal_skew = skew(array1)\n",
                "chi_skew = skew(array2)\n",
                "print(f\"Normal skew is: {normal_skew}\")\n",
                "print(f\"Chi-sq skew is: {chi_skew}\")\n",
                "print()\n",
                "\n",
                "### KURTOSIS ###\n",
                "\n",
                "kurtosis_normal = kurtosis(array1)\n",
                "kurtosis_chi = kurtosis(array2)\n",
                "\n",
                "print(f\"Normal kurtosis is: {kurtosis_normal}\")\n",
                "print(f\"Chi kurtosis is: {kurtosis_chi}\")"
            ]
        },
        {
            "cell_type": "markdown",
            "id": "46c70c3d",
            "metadata": {},
            "source": [
                "### Exercise 2\n",
                "\n",
                "Write a Python program to calculate the standard deviation of the following data:\n",
                "\n",
                "```py\n",
                "data = [4, 2, 5, 8, 6]\n",
                "```"
            ]
        },
        {
            "cell_type": "code",
            "execution_count": 19,
            "id": "d590308e",
            "metadata": {},
            "outputs": [
                {
                    "name": "stdout",
                    "output_type": "stream",
                    "text": [
                        "Numpy's standard dev is: 2.0\n",
                        "Stats standard dev is: 2.23606797749979\n",
                        "Program's sdev is 2.0?\n"
                    ]
                }
            ],
            "source": [
                "import math\n",
                "\n",
                "data = [4, 2, 5, 8, 6]\n",
                "\n",
                "# Seeing how the built-in functions compare\n",
                "print(f\"Numpy's standard dev is: {np.std(data)}\")\n",
                "print(f\"Stats standard dev is: {stats.stdev(data)}\")\n",
                "\n",
                "# find the mean of dataset\n",
                "sm=0\n",
                "for i in range(len(data)):\n",
                "   sm+=data[i]\n",
                "   mean = sm/len(data)\n",
                "\n",
                "# finding the standard dev \n",
                "guess = 0\n",
                "for i in range(len(data)):\n",
                "   guess+=(data[i]- mean)**2\n",
                "   sdev = math.sqrt((guess)/len(data))\n",
                "print(f\"Program's sdev is {sdev}?\")\n",
                "\n",
                "\n"
            ]
        }
    ],
    "metadata": {
        "interpreter": {
            "hash": "9248718ffe6ce6938b217e69dbcc175ea21f4c6b28a317e96c05334edae734bb"
        },
        "kernelspec": {
            "display_name": "Python 3.9.12 ('ML-BOOTCAMP')",
            "language": "python",
            "name": "python3"
        },
        "language_info": {
            "codemirror_mode": {
                "name": "ipython",
                "version": 3
            },
            "file_extension": ".py",
            "mimetype": "text/x-python",
            "name": "python",
            "nbconvert_exporter": "python",
            "pygments_lexer": "ipython3",
            "version": "3.11.4"
        }
    },
    "nbformat": 4,
    "nbformat_minor": 5
}
