{
 "cells": [
  {
   "cell_type": "markdown",
   "id": "e9e43ef0",
   "metadata": {},
   "source": [
    "# Estadística Descriptiva en Python"
   ]
  },
  {
   "cell_type": "markdown",
   "id": "7c10009c",
   "metadata": {},
   "source": [
    "La estadística descriptiva es una rama de la estadística que se encarga de recolectar, analizar, interpretar y presentar datos de manera organizada y efectiva. Su principal objetivo es proporcionar resúmenes simples y comprensibles acerca de las características principales de un conjunto de datos, sin llegar a hacer inferencias o predicciones sobre una población más amplia."
   ]
  },
  {
   "cell_type": "markdown",
   "id": "c9ced457",
   "metadata": {},
   "source": [
    "# Medidas de Tendencia Central"
   ]
  },
  {
   "cell_type": "markdown",
   "id": "03a10ad8",
   "metadata": {},
   "source": [
    "Las medidas de tendencia central describen cómo se centralizan o agrupan los datos en un conjunto. Son esenciales en estadística y análisis de datos porque nos proporcionan un resumen de la información."
   ]
  },
  {
   "cell_type": "markdown",
   "id": "08b2511d",
   "metadata": {},
   "source": [
    "# Medidas de Dispersión"
   ]
  },
  {
   "cell_type": "markdown",
   "id": "bf4f0294",
   "metadata": {},
   "source": [
    "Las medidas de dispersión describen cómo de variados son los datos en un conjunto. Nos muestran cuánto se extienden o varían los datos alrededor de la media."
   ]
  },
  {
   "cell_type": "markdown",
   "id": "d5ff78a7",
   "metadata": {},
   "source": [
    "# Medidas de Posición"
   ]
  },
  {
   "cell_type": "markdown",
   "id": "cc956ea5",
   "metadata": {},
   "source": [
    "Las medidas de posición nos indican la ubicación de un valor dentro de un conjunto de datos."
   ]
  },
  {
   "cell_type": "markdown",
   "id": "d7796289",
   "metadata": {},
   "source": [
    "# Medidas de Forma"
   ]
  },
  {
   "cell_type": "markdown",
   "id": "94961d65",
   "metadata": {},
   "source": [
    "Las medidas de forma describen cómo se distribuyen los valores en un conjunto de datos en relación con la tendencia central."
   ]
  },
  {
   "cell_type": "markdown",
   "id": "cad9ad6f",
   "metadata": {},
   "source": [
    "# Visualización de Datos"
   ]
  },
  {
   "cell_type": "markdown",
   "id": "eb65c058",
   "metadata": {},
   "source": [
    "Para comprender mejor la distribución de los datos, podemos usar histogramas, diagramas de dispersión y gráficos de cajas."
   ]
  },
  {
   "cell_type": "code",
   "execution_count": null,
   "id": "ad1432b8",
   "metadata": {},
   "outputs": [],
   "source": [
    "\n",
    "import statistics as stats\n",
    "import numpy as np\n",
    "import matplotlib.pyplot as plt\n",
    "import seaborn as sns\n",
    "from scipy.stats import skew, kurtosis\n",
    "\n",
    "# Datos de ejemplo\n",
    "data = [10, 20, -15, 0, 50, 10, 5, 100]\n",
    "\n",
    "# Media\n",
    "mean = stats.mean(data)\n",
    "print(f\"Media: {mean}\")\n",
    "\n",
    "# Mediana\n",
    "median = stats.median(data)\n",
    "print(f\"Mediana: {median}\")\n",
    "\n",
    "# Moda\n",
    "mode = stats.mode(data)\n",
    "print(f\"Moda: {mode}\")\n",
    "\n",
    "# Visualización\n",
    "plt.figure(figsize=(8,5))\n",
    "sns.histplot(data, bins=5, kde=True, color='blue')\n",
    "plt.axvline(mean, color='red', linestyle='dashed', label=f\"Media: {mean}\")\n",
    "plt.axvline(median, color='green', linestyle='dashed', label=f\"Mediana: {median}\")\n",
    "plt.axvline(mode, color='purple', linestyle='dashed', label=f\"Moda: {mode}\")\n",
    "plt.legend()\n",
    "plt.title(\"Distribución de los datos y medidas de tendencia central\")\n",
    "plt.show()\n"
   ]
  },
  {
   "cell_type": "code",
   "execution_count": null,
   "id": "c3ca621e",
   "metadata": {},
   "outputs": [],
   "source": [
    "\n",
    "# Rango\n",
    "range_ = max(data) - min(data)\n",
    "print(f\"Rango: {range_}\")\n",
    "\n",
    "# Varianza y desviación estándar\n",
    "variance = stats.variance(data)\n",
    "std = stats.stdev(data)\n",
    "print(f\"Varianza: {variance}\")\n",
    "print(f\"Desviación estándar: {std}\")\n",
    "\n",
    "# Visualización\n",
    "plt.figure(figsize=(8,5))\n",
    "sns.boxplot(x=data, color=\"orange\")\n",
    "plt.title(\"Diagrama de Caja - Medidas de Dispersión\")\n",
    "plt.show()\n"
   ]
  },
  {
   "cell_type": "code",
   "execution_count": null,
   "id": "55d13031",
   "metadata": {},
   "outputs": [],
   "source": [
    "\n",
    "# Percentiles y cuantiles\n",
    "percentiles = np.percentile(data, [25, 50, 75])\n",
    "print(f\"Percentiles 25, 50, 75: {percentiles}\")\n",
    "\n",
    "# Visualización\n",
    "plt.figure(figsize=(8,5))\n",
    "sns.histplot(data, bins=5, kde=True, color='blue')\n",
    "for p in percentiles:\n",
    "    plt.axvline(p, linestyle='dashed', color='red', label=f\"Percentil {p}\")\n",
    "plt.legend()\n",
    "plt.title(\"Percentiles en la Distribución de Datos\")\n",
    "plt.show()\n"
   ]
  },
  {
   "cell_type": "code",
   "execution_count": null,
   "id": "25cccace",
   "metadata": {},
   "outputs": [],
   "source": [
    "\n",
    "# Asimetría (Skewness)\n",
    "skewness = skew(data)\n",
    "print(f\"Asimetría (Skewness): {skewness}\")\n",
    "\n",
    "# Curtosis (Kurtosis)\n",
    "kurt = kurtosis(data)\n",
    "print(f\"Curtosis: {kurt}\")\n",
    "\n",
    "# Visualización\n",
    "plt.figure(figsize=(8,5))\n",
    "sns.histplot(data, bins=5, kde=True, color='blue')\n",
    "plt.title(\"Distribución de datos - Medidas de Forma\")\n",
    "plt.show()\n"
   ]
  }
 ],
 "metadata": {},
 "nbformat": 4,
 "nbformat_minor": 5
}
