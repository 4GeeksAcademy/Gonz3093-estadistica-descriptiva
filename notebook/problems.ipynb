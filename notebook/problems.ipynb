{
    "cells": [
        {
            "cell_type": "markdown",
            "id": "ac622319",
            "metadata": {},
            "source": [
                "# Descriptive statistics problems"
            ]
        },
        {
            "cell_type": "markdown",
            "id": "5e0ab0d5",
            "metadata": {},
            "source": [
                "### Exercise 1\n",
                "\n",
                "We will use NumPy to obtain information to describe statistically.\n",
                "\n",
                "- Generate an array of 100 elements following a normal distribution.\n",
                "- Generate an array of 100 elements following a chi-square distribution with 3 degrees of freedom.\n",
                "- Calculate the main metrics and statistical measures that best describe the two vectors."
            ]
        },
        {
            "cell_type": "code",
            "execution_count": 7,
            "id": "34720ab6",
            "metadata": {},
            "outputs": [
                {
                    "name": "stdout",
                    "output_type": "stream",
                    "text": [
                        "La media normal de 100 numeros es: -0.16537251714537368\n",
                        "La media con tres grados de libertad es: 3.1657963984641877\n",
                        "La desviacion de la normal es: 0.8735179659912325 Y la desviacion con 3 grados de libertad es: 2.799833829717906\n"
                    ]
                }
            ],
            "source": [
                "# TODO\n",
                "import numpy as np\n",
                "\n",
                "normal = np.random.normal(0,1,100)\n",
                "chi_square = np.random.chisquare(3,100)\n",
                "\n",
                "media_normal = np.mean (normal)\n",
                "media_chi = np.mean (chi_square)\n",
                "\n",
                "print(\"La media normal de 100 numeros es:\", media_normal)\n",
                "print(\"La media con tres grados de libertad es:\" , media_chi)\n",
                "\n",
                "desviacion_s = np.std(normal)\n",
                "desviacion_a = np.std(chi_square)\n",
                "print(f\"La desviacion de la normal es:\",desviacion_s,\"Y la desviacion con 3 grados de libertad es:\", desviacion_a)"
            ]
        },
        {
            "cell_type": "markdown",
            "id": "46c70c3d",
            "metadata": {},
            "source": [
                "### Exercise 2\n",
                "\n",
                "Write a Python program to calculate the standard deviation of the following data:\n",
                "\n",
                "```py\n",
                "data = [4, 2, 5, 8, 6]\n",
                "```"
            ]
        },
        {
            "cell_type": "code",
            "execution_count": 14,
            "id": "d590308e",
            "metadata": {},
            "outputs": [
                {
                    "name": "stdout",
                    "output_type": "stream",
                    "text": [
                        "La desviación estandar es: 4.0\n"
                    ]
                }
            ],
            "source": [
                "# TODO\n",
                "data = [4,2,5,8,6]\n",
                "media = sum(data)/len(data) # Media de data\n",
                "# Distancia a la media (Al cuadrado)\n",
                "total = 0\n",
                "\n",
                "for i in data:\n",
                "    distancia = (i - media)**2\n",
                "    total += distancia\n",
                "    resultado = total/len(data)\n",
                "print(\"La desviación estandar es:\" , resultado)"
            ]
        }
    ],
    "metadata": {
        "interpreter": {
            "hash": "9248718ffe6ce6938b217e69dbcc175ea21f4c6b28a317e96c05334edae734bb"
        },
        "kernelspec": {
            "display_name": "Python 3.9.12 ('ML-BOOTCAMP')",
            "language": "python",
            "name": "python3"
        },
        "language_info": {
            "codemirror_mode": {
                "name": "ipython",
                "version": 3
            },
            "file_extension": ".py",
            "mimetype": "text/x-python",
            "name": "python",
            "nbconvert_exporter": "python",
            "pygments_lexer": "ipython3",
            "version": "3.11.4"
        }
    },
    "nbformat": 4,
    "nbformat_minor": 5
}
