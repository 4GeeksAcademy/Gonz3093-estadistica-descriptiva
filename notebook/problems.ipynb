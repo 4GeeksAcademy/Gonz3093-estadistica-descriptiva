{
    "cells": [
        {
            "cell_type": "markdown",
            "id": "ac622319",
            "metadata": {},
            "source": [
                "# Descriptive statistics problems"
            ]
        },
        {
            "cell_type": "markdown",
            "id": "5e0ab0d5",
            "metadata": {},
            "source": [
                "### Exercise 1\n",
                "\n",
                "We will use NumPy to obtain information to describe statistically.\n",
                "\n",
                "- Generate an array of 100 elements following a normal distribution.\n",
                "- Generate an array of 100 elements following a chi-square distribution with 3 degrees of freedom.\n",
                "- Calculate the main metrics and statistical measures that best describe the two vectors."
            ]
        },
        {
            "cell_type": "code",
            "execution_count": 70,
            "id": "34720ab6",
            "metadata": {},
            "outputs": [
                {
                    "name": "stdout",
                    "output_type": "stream",
                    "text": [
                        "Distribución normal: [ 0.76923379  0.5742393   0.61787694 -1.25960609 -1.18796285 -0.51655045\n",
                        " -1.65295695  0.81234273 -0.27679669  0.67230432  1.76461913 -1.1943756\n",
                        " -0.71244534  3.39787764 -0.68562495  0.13774652  1.41070156  1.93043831\n",
                        " -0.09586705  1.39247829 -0.03802866  1.43082466  2.2244982  -1.9689281\n",
                        "  0.1169756   1.03679649 -1.0399285   0.63399117  1.10422503  1.74412925\n",
                        " -0.91550008  0.62648192 -0.17457414 -0.28229639  0.7840591  -0.49722555\n",
                        " -1.1575354   1.77429502  0.22046353 -0.80180236 -1.43093518  0.69026848\n",
                        "  0.13359328 -1.36046362  0.29375706 -0.26288265  1.17698581 -0.9708398\n",
                        "  1.32513297  1.082896    0.3021874  -1.20955256  0.93245155 -0.69695085\n",
                        "  0.95084985  0.33787732  0.74634937  0.12886077  0.86325993 -0.54542479\n",
                        " -0.17937873  1.24230814  0.98076027  0.916095    0.63076411 -0.76070569\n",
                        " -0.42935864 -0.51311463  0.6756503   0.33009041  0.95485391 -2.20632037\n",
                        "  0.02516643  0.64948077 -1.76768963 -0.63422072 -0.07722846  0.75829187\n",
                        "  0.71745379  0.55177117  0.25772971 -0.58271268 -0.18584666  0.53977674\n",
                        " -0.28355789  0.51176452 -0.79847977  0.48018215 -1.07691838  0.46770468\n",
                        " -1.34785359  1.05655776  1.25385879  0.38917759  1.406252   -0.06549675\n",
                        "  0.73628921 -0.44968933  1.1703974  -0.09216874]\n",
                        "Distribución chi-cuadrado es con 3 grados de libertad: [ 0.52734956  3.75862327  1.23064711  0.33420303  5.56695447  1.65493478\n",
                        "  1.52754586  1.12979424  0.68888472  4.08718533  1.32689203  0.4734402\n",
                        "  1.9726741   1.91599351  4.19902202  4.13897831  0.70665793  4.98771617\n",
                        "  2.56093374  5.84846077  1.16461339  3.34977895  1.83857623  1.99964518\n",
                        "  7.71105586  5.47017721  0.19491651  9.75873762  0.68584115  5.37009207\n",
                        "  3.83258126  1.22061088  4.35337885  0.54429102  2.91844783  1.25637666\n",
                        "  3.81771828  3.61445735  2.38919776  3.67091969  7.22595453  2.13287835\n",
                        "  7.99530474  3.54897835  0.41076604  1.93410231  3.77463961  1.89462415\n",
                        "  2.01111769  8.42892382  0.93666622  3.87649666  0.60145367  2.4198831\n",
                        "  0.63074142  1.10793658  4.70275238  2.14315906  2.71522951  3.40225268\n",
                        "  4.85752249  3.19008161  0.87886036  0.34523186  0.30377644  0.59075496\n",
                        "  6.97172931 10.4593847   0.14463328  2.90834733  6.76047497  1.87252829\n",
                        "  1.27567564  2.73383529  1.03768819  0.28205652  0.33869548  5.32293204\n",
                        "  1.47128429  8.33161889  2.60983373  0.66286337  3.43755294  0.06897339\n",
                        "  1.82848917  5.68503521  1.62661971  3.13693646  0.74205916  3.20443731\n",
                        "  0.84648486  1.88896345  0.25787453  0.8510519   3.15699978  0.8451778\n",
                        "  0.44442569  7.51093113  0.45148601  2.43991118]\n"
                    ]
                }
            ],
            "source": [
                "import numpy as np\n",
                "normal = np.random.normal(0,1,size=100)\n",
                "chi_cuadrado = np.random.chisquare(3,100)\n",
                "print (f'Distribución normal: {normal}')\n",
                "print (f'Distribución chi-cuadrado es con 3 grados de libertad: {chi_cuadrado}')\n",
                "\n"
            ]
        },
        {
            "cell_type": "code",
            "execution_count": 71,
            "id": "d47d8423",
            "metadata": {},
            "outputs": [
                {
                    "name": "stdout",
                    "output_type": "stream",
                    "text": [
                        "Media normal: 0.18457649755684793\n",
                        "Media Chi_cuadrado: 2.7746538452487592\n"
                    ]
                }
            ],
            "source": [
                "#Medidas de tendencia central\n",
                "#Media\n",
                "\n",
                "import statistics as stats\n",
                "\n",
                "print(f'Media normal: {stats.mean(normal)}')\n",
                "print(f'Media Chi_cuadrado: {stats.mean(chi_cuadrado)}')"
            ]
        },
        {
            "cell_type": "code",
            "execution_count": 72,
            "id": "4097877c",
            "metadata": {},
            "outputs": [
                {
                    "name": "stdout",
                    "output_type": "stream",
                    "text": [
                        "Mediana normal: 0.29797223026352515\n",
                        "Mediana Chi_cuadrado: 2.005381435350604\n"
                    ]
                }
            ],
            "source": [
                "#Medidas de tendencia central\n",
                "#Mediana\n",
                "\n",
                "print(f'Mediana normal: {stats.median(normal)}')\n",
                "print(f'Mediana Chi_cuadrado: {stats.median(chi_cuadrado)}')\n",
                "\n"
            ]
        },
        {
            "cell_type": "code",
            "execution_count": 73,
            "id": "3a6a80fd",
            "metadata": {},
            "outputs": [
                {
                    "name": "stdout",
                    "output_type": "stream",
                    "text": [
                        "Moda normal: 0.7692337884640131\n",
                        "Moda Chi_cuadrado: 0.5273495575894294\n"
                    ]
                }
            ],
            "source": [
                "#Medidas de tendencia central\n",
                "#Moda\n",
                "\n",
                "print(f'Moda normal: {stats.mode(normal)}')\n",
                "print(f'Moda Chi_cuadrado: {stats.mode(chi_cuadrado)}')"
            ]
        },
        {
            "cell_type": "code",
            "execution_count": 76,
            "id": "e4762bf8",
            "metadata": {},
            "outputs": [
                {
                    "name": "stdout",
                    "output_type": "stream",
                    "text": [
                        "Rango normal: 5.60419800612307\n",
                        "Rango chi-cuadrado: [ 0.52734956  3.75862327  1.23064711  0.33420303  5.56695447  1.65493478\n",
                        "  1.52754586  1.12979424  0.68888472  4.08718533  1.32689203  0.4734402\n",
                        "  1.9726741   1.91599351  4.19902202  4.13897831  0.70665793  4.98771617\n",
                        "  2.56093374  5.84846077  1.16461339  3.34977895  1.83857623  1.99964518\n",
                        "  7.71105586  5.47017721  0.19491651  9.75873762  0.68584115  5.37009207\n",
                        "  3.83258126  1.22061088  4.35337885  0.54429102  2.91844783  1.25637666\n",
                        "  3.81771828  3.61445735  2.38919776  3.67091969  7.22595453  2.13287835\n",
                        "  7.99530474  3.54897835  0.41076604  1.93410231  3.77463961  1.89462415\n",
                        "  2.01111769  8.42892382  0.93666622  3.87649666  0.60145367  2.4198831\n",
                        "  0.63074142  1.10793658  4.70275238  2.14315906  2.71522951  3.40225268\n",
                        "  4.85752249  3.19008161  0.87886036  0.34523186  0.30377644  0.59075496\n",
                        "  6.97172931 10.4593847   0.14463328  2.90834733  6.76047497  1.87252829\n",
                        "  1.27567564  2.73383529  1.03768819  0.28205652  0.33869548  5.32293204\n",
                        "  1.47128429  8.33161889  2.60983373  0.66286337  3.43755294  0.06897339\n",
                        "  1.82848917  5.68503521  1.62661971  3.13693646  0.74205916  3.20443731\n",
                        "  0.84648486  1.88896345  0.25787453  0.8510519   3.15699978  0.8451778\n",
                        "  0.44442569  7.51093113  0.45148601  2.43991118]\n"
                    ]
                }
            ],
            "source": [
                "#Medidas de dispersión\n",
                "#Rango\n",
                "\n",
                "rango_normal = max(normal) - min(normal)\n",
                "rango_chi = max(chi_cuadrado) - min(chi_cuadrado)\n",
                "\n",
                "print(f'Rango normal: {rango_normal}')\n",
                "print(f'Rango chi-cuadrado: {chi_cuadrado}')"
            ]
        },
        {
            "cell_type": "code",
            "execution_count": 81,
            "id": "88bdb0a6",
            "metadata": {},
            "outputs": [
                {
                    "name": "stdout",
                    "output_type": "stream",
                    "text": [
                        "Varianza normal: 0.998433488126238\n",
                        "Desviación estandar normal: 0.9992164370776924\n",
                        "Varianza chi-cuadrado: 5.601732482368567\n",
                        "Desviación estandar chi-cuadrado: 2.3667979386438054\n"
                    ]
                }
            ],
            "source": [
                "#Medidas de dispersión\n",
                "#Varianza\n",
                "\n",
                "print(f'Varianza normal: {stats.variance(normal)}')\n",
                "print(f'Desviación estandar normal: {stats.stdev(normal)}')\n",
                "print(f'Varianza chi-cuadrado: {stats.variance(chi_cuadrado)}')\n",
                "print(f'Desviación estandar chi-cuadrado: {stats.stdev(chi_cuadrado)}')"
            ]
        },
        {
            "cell_type": "code",
            "execution_count": 84,
            "id": "016feb6f",
            "metadata": {},
            "outputs": [
                {
                    "name": "stdout",
                    "output_type": "stream",
                    "text": [
                        "Asimetría normal: 0.02516110971230026\n",
                        "asimetria chi: 1.1786899662470063\n"
                    ]
                }
            ],
            "source": [
                "#Medidas de forma\n",
                "#Asimetría\n",
                "\n",
                "from scipy.stats import skew\n",
                "asimetría_normal = skew(normal)\n",
                "asimetria_chi = skew(chi_cuadrado)\n",
                "\n",
                "print(f\"Asimetría normal: {asimetría_normal}\")\n",
                "print(f\"asimetria chi: {asimetria_chi}\")"
            ]
        },
        {
            "cell_type": "code",
            "execution_count": 86,
            "id": "02724eb5",
            "metadata": {},
            "outputs": [
                {
                    "name": "stdout",
                    "output_type": "stream",
                    "text": [
                        "kurtosis normal: 0.11269082692295251\n",
                        "kurtosis chi: 0.8735969479986272\n"
                    ]
                }
            ],
            "source": [
                "#Medidas de forma\n",
                "#Curtosis\n",
                "\n",
                "from scipy.stats import kurtosis\n",
                "kurtosis_normal = kurtosis(normal)\n",
                "kurtosis_chi = kurtosis(chi_cuadrado)\n",
                "\n",
                "print(f\"kurtosis normal: {kurtosis_normal}\")\n",
                "print(f\"kurtosis chi: {kurtosis_chi}\")\n"
            ]
        },
        {
            "cell_type": "markdown",
            "id": "46c70c3d",
            "metadata": {},
            "source": [
                "### Exercise 2\n",
                "\n",
                "Write a Python program to calculate the standard deviation of the following data:\n",
                "\n",
                "```py\n",
                "data = [4, 2, 5, 8, 6]\n",
                "```"
            ]
        },
        {
            "cell_type": "code",
            "execution_count": 100,
            "id": "d590308e",
            "metadata": {},
            "outputs": [
                {
                    "name": "stdout",
                    "output_type": "stream",
                    "text": [
                        "2.0\n",
                        "2.23606797749979\n"
                    ]
                }
            ],
            "source": [
                "import math \n",
                "import statistics as stats\n",
                "data = [4,2,5,8,6]\n",
                "\n",
                "def calculo_desviacon(data):\n",
                "       mean = sum(data) / len(data)\n",
                "       dev = []\n",
                "       for i in data:\n",
                "              x = (i - mean)**2\n",
                "              dev.append(x)\n",
                "              y = sum(dev)/len(data)\n",
                "           \n",
                "              \n",
                "      \n",
                "       return math.sqrt(y)    \n",
                "       \n",
                "       \n",
                "print(calculo_desviacon(data))\n",
                "\n",
                "print(stats.stdev(data))\n",
                "\n",
                "\n",
                "       \n",
                "\n",
                "\n"
            ]
        }
    ],
    "metadata": {
        "interpreter": {
            "hash": "9248718ffe6ce6938b217e69dbcc175ea21f4c6b28a317e96c05334edae734bb"
        },
        "kernelspec": {
            "display_name": "Python 3.9.12 ('ML-BOOTCAMP')",
            "language": "python",
            "name": "python3"
        },
        "language_info": {
            "codemirror_mode": {
                "name": "ipython",
                "version": 3
            },
            "file_extension": ".py",
            "mimetype": "text/x-python",
            "name": "python",
            "nbconvert_exporter": "python",
            "pygments_lexer": "ipython3",
            "version": "3.11.4"
        }
    },
    "nbformat": 4,
    "nbformat_minor": 5
}
