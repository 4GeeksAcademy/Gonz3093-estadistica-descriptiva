{
    "cells": [
        {
            "cell_type": "markdown",
            "id": "ac622319",
            "metadata": {},
            "source": [
                "# Descriptive statistics problems"
            ]
        },
        {
            "cell_type": "markdown",
            "id": "5e0ab0d5",
            "metadata": {},
            "source": [
                "### Exercise 1\n",
                "\n",
                "We will use NumPy to obtain information to describe statistically.\n",
                "\n",
                "- Generate an array of 100 elements following a normal distribution.\n",
                "- Generate an array of 100 elements following a chi-square distribution with 3 degrees of freedom.\n",
                "- Calculate the main metrics and statistical measures that best describe the two vectors."
            ]
        },
        {
            "cell_type": "code",
            "execution_count": 9,
            "id": "34720ab6",
            "metadata": {},
            "outputs": [
                {
                    "name": "stdout",
                    "output_type": "stream",
                    "text": [
                        "La media de los elementos con distribución normal es: -0.02575701913475372\n",
                        "La media de los elementos con distribución chi-cuadrado es: 3.1341815977631926\n",
                        "La mediana de los elementos con distribución normal es: 0.06711738230446523\n",
                        "La mediana de los elementos con distribución chi-cuadrado es: 2.264034231107231\n",
                        "La moda de los elementos con distribución normal es: 0.1504587572000871\n",
                        "La moda de los elementos con distribución chi-cuadrado es: 2.158281311033611\n",
                        "El rango de los elementos con distribución normal es: 5.282970897189165\n",
                        "El rango de los elementos con distribución chi-cuadrado es: 9.345939537979136\n",
                        "La varianza de los elementos con distribución normal es: 1.0575524438121537\n",
                        "La varianza de los elementos con distribución chi-cuadrado es: 6.242600009195317\n",
                        "La desviación típica de los elementos con distribución normal es: 1.028373688798072\n",
                        "La desviación típica de los elementos con distribución chi-cuadrado es: 2.4985195635006177\n",
                        "La oblicuidad de los elementos con distribución normal es: -0.6331162644708517\n",
                        "La oblicuidad de los elementos con distribución chi-cuadrado es: 0.9909054595855211\n",
                        "La curtosis de los elementos con distribución normal es: 0.5208785728358238\n",
                        "La curtosis de los elementos con distribución chi-cuadrado es: -0.10824014999966147\n"
                    ]
                }
            ],
            "source": []
        },
        {
            "cell_type": "code",
            "execution_count": null,
            "id": "c8390ef8",
            "metadata": {},
            "outputs": [],
            "source": [
                "# TODO\n",
                "import numpy as np \n",
                "normal = np.random.normal(size=100)\n",
                "chicua= np.random.chisquare(3,100)\n",
                "\n",
                "import statistics as stats\n",
                "\n",
                "#Media \n",
                "media_normal = stats.mean(normal)\n",
                "media_chi = stats.mean(chicua)\n",
                "\n",
                "print(f\"La media de los elementos con distribución normal es: {media_normal}\")\n",
                "print(f\"La media de los elementos con distribución chi-cuadrado es: {media_chi}\")\n",
                "\n",
                "#Mediana\n",
                "mediana_normal = stats.median(normal)\n",
                "mediana_chi = stats.median(chicua)\n",
                "\n",
                "print(f\"La mediana de los elementos con distribución normal es: {mediana_normal}\")\n",
                "print(f\"La mediana de los elementos con distribución chi-cuadrado es: {mediana_chi}\")\n",
                "\n",
                "#Moda \n",
                "moda_normal = stats.mode(normal)\n",
                "moda_chi = stats.mode(chicua)\n",
                "\n",
                "print(f\"La moda de los elementos con distribución normal es: {moda_normal}\")\n",
                "print(f\"La moda de los elementos con distribución chi-cuadrado es: {moda_chi}\")\n",
                "\n",
                "#Rango\n",
                "rango_normal = max(normal) - min(normal)\n",
                "rango_chi = max(chicua) - min(chicua)\n",
                "\n",
                "print(f\"El rango de los elementos con distribución normal es: {rango_normal}\")\n",
                "print(f\"El rango de los elementos con distribución chi-cuadrado es: {rango_chi}\")\n",
                "\n",
                "#Varianza \n",
                "var_normal = stats.variance(normal)\n",
                "var_chi = stats.variance(chicua)\n",
                "\n",
                "print(f\"La varianza de los elementos con distribución normal es: {var_normal}\")\n",
                "print(f\"La varianza de los elementos con distribución chi-cuadrado es: {var_chi}\")\n",
                "\n",
                "#Desviación típica \n",
                "dt_normal = stats.stdev(normal)\n",
                "dt_chi = stats.stdev(chicua)\n",
                "\n",
                "print(f\"La desviación típica de los elementos con distribución normal es: {dt_normal}\")\n",
                "print(f\"La desviación típica de los elementos con distribución chi-cuadrado es: {dt_chi}\")\n",
                "\n",
                "#Oblicuidad \n",
                "from scipy.stats import skew\n",
                "sk_normal = skew(normal)\n",
                "sk_chi = skew(chicua)\n",
                "\n",
                "print(f\"La oblicuidad de los elementos con distribución normal es: {sk_normal}\")\n",
                "print(f\"La oblicuidad de los elementos con distribución chi-cuadrado es: {sk_chi}\")\n",
                "\n",
                "#Curtosis\n",
                "from scipy.stats import kurtosis\n",
                "kur_normal = kurtosis(normal)\n",
                "kur_chi = kurtosis(chicua)\n",
                "\n",
                "print(f\"La curtosis de los elementos con distribución normal es: {kur_normal}\")\n",
                "print(f\"La curtosis de los elementos con distribución chi-cuadrado es: {kur_chi}\")\n",
                "\n"
            ]
        },
        {
            "cell_type": "markdown",
            "id": "46c70c3d",
            "metadata": {},
            "source": [
                "### Exercise 2\n",
                "\n",
                "Write a Python program to calculate the standard deviation of the following data:\n",
                "\n",
                "```py\n",
                "data = [4, 2, 5, 8, 6]\n",
                "```"
            ]
        },
        {
            "cell_type": "code",
            "execution_count": 20,
            "id": "d590308e",
            "metadata": {},
            "outputs": [
                {
                    "name": "stdout",
                    "output_type": "stream",
                    "text": [
                        "La desviación estándar es: 2.0\n"
                    ]
                }
            ],
            "source": [
                "# TODO\n",
                "\n",
                "data = [4,2,5,8,6]\n",
                "N=len(data)\n",
                "import statistics as stats\n",
                "\n",
                "media = stats.mean(data)\n",
                "\n",
                "def st_dev(lista):\n",
                "    suma = 0\n",
                "    for i in lista:\n",
                "       suma +=(i-media)**2 \n",
                "    varianza = suma / N\n",
                "    desviacion = varianza **0.5\n",
                "    return desviacion\n",
                "\n",
                "\n",
                "\n",
                "print(f\"La desviación estándar es: {st_dev(data)}\")"
            ]
        }
    ],
    "metadata": {
        "interpreter": {
            "hash": "9248718ffe6ce6938b217e69dbcc175ea21f4c6b28a317e96c05334edae734bb"
        },
        "kernelspec": {
            "display_name": "Python 3.9.12 ('ML-BOOTCAMP')",
            "language": "python",
            "name": "python3"
        },
        "language_info": {
            "codemirror_mode": {
                "name": "ipython",
                "version": 3
            },
            "file_extension": ".py",
            "mimetype": "text/x-python",
            "name": "python",
            "nbconvert_exporter": "python",
            "pygments_lexer": "ipython3",
            "version": "3.12.4"
        }
    },
    "nbformat": 4,
    "nbformat_minor": 5
}
