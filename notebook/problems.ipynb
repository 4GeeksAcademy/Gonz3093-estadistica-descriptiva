{
    "cells": [
        {
            "cell_type": "markdown",
            "id": "ac622319",
            "metadata": {},
            "source": [
                "# Descriptive statistics problems"
            ]
        },
        {
            "cell_type": "markdown",
            "id": "5e0ab0d5",
            "metadata": {},
            "source": [
                "### Exercise 1\n",
                "\n",
                "We will use NumPy to obtain information to describe statistically.\n",
                "\n",
                "- Generate an array of 100 elements following a normal distribution.\n",
                "- Generate an array of 100 elements following a chi-square distribution with 3 degrees of freedom.\n",
                "- Calculate the main metrics and statistical measures that best describe the two vectors."
            ]
        },
        {
            "cell_type": "code",
            "execution_count": 15,
            "id": "34720ab6",
            "metadata": {},
            "outputs": [],
            "source": [
                "# TODO\n",
                "import numpy as np\n",
                "import statistics as stats\n",
                "\n",
                "\n",
                "\n",
                "\n",
                "vector_one = np.arange(0,100, dtype = int)\n",
                "vector_one_nd = np.random.normal(vector_one)\n",
                "\n",
                "chi_squared_array = np.random.chisquare(df=3, size=100)\n",
                "\n",
                "vector_one.mean()\n",
                "vector_one.std()\n",
                "variance_vector_one = stats.variance(vector_one)\n",
                "median_vector_one = stats.median(vector_one)\n",
                "mode_vector_one = stats.mode(vector_one)\n",
                "\n",
                "chi_squared_array.mean()\n",
                "chi_squared_array.std()\n",
                "chi_squared_array_variance = stats.variance(chi_squared_array)\n",
                "median_chi_squared_array = stats.median(chi_squared_array)\n",
                "mode_chi_squared_array = stats.mode(chi_squared_array)\n",
                "\n",
                "\n",
                "\n",
                "\n"
            ]
        },
        {
            "cell_type": "markdown",
            "id": "46c70c3d",
            "metadata": {},
            "source": [
                "### Exercise 2\n",
                "\n",
                "Write a Python program to calculate the standard deviation of the following data:\n",
                "\n",
                "```py\n",
                "data = [4, 2, 5, 8, 6]\n",
                "```"
            ]
        },
        {
            "cell_type": "code",
            "execution_count": 2,
            "id": "d590308e",
            "metadata": {},
            "outputs": [
                {
                    "data": {
                        "text/plain": [
                            "2.0"
                        ]
                    },
                    "execution_count": 2,
                    "metadata": {},
                    "output_type": "execute_result"
                }
            ],
            "source": [
                "# TODO\n",
                "data = [4,2,5,8,6]\n",
                "import math\n",
                "\n",
                "def std(data_input):\n",
                "  data_mean = sum(data)/len(data)\n",
                "  sum_difference_elem_mean_squared = 0 \n",
                "  for elements in data:\n",
                "    sum_difference_elem_mean_squared  += (elements - data_mean)**2\n",
                "\n",
                "  next_step = sum_difference_elem_mean_squared/len(data_input)\n",
                "\n",
                "  final_std = math.sqrt(next_step)\n",
                "  return final_std\n",
                "\n",
                "std(data)  \n"
            ]
        }
    ],
    "metadata": {
        "interpreter": {
            "hash": "9248718ffe6ce6938b217e69dbcc175ea21f4c6b28a317e96c05334edae734bb"
        },
        "kernelspec": {
            "display_name": "Python 3.9.12 ('ML-BOOTCAMP')",
            "language": "python",
            "name": "python3"
        },
        "language_info": {
            "codemirror_mode": {
                "name": "ipython",
                "version": 3
            },
            "file_extension": ".py",
            "mimetype": "text/x-python",
            "name": "python",
            "nbconvert_exporter": "python",
            "pygments_lexer": "ipython3",
            "version": "3.11.4"
        }
    },
    "nbformat": 4,
    "nbformat_minor": 5
}
