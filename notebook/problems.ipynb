{
    "cells": [
        {
            "cell_type": "markdown",
            "id": "ac622319",
            "metadata": {},
            "source": [
                "# Descriptive statistics problems"
            ]
        },
        {
            "cell_type": "markdown",
            "id": "5e0ab0d5",
            "metadata": {},
            "source": [
                "### Exercise 1\n",
                "\n",
                "We will use NumPy to obtain information to describe statistically.\n",
                "\n",
                "- Generate an array of 100 elements following a normal distribution.\n",
                "- Generate an array of 100 elements following a chi-square distribution with 3 degrees of freedom.\n",
                "- Calculate the main metrics and statistical measures that best describe the two vectors."
            ]
        },
        {
            "cell_type": "code",
            "execution_count": 2,
            "id": "34720ab6",
            "metadata": {},
            "outputs": [
                {
                    "name": "stdout",
                    "output_type": "stream",
                    "text": [
                        "The Normal Distribution is[ 0.22827309  1.0268903  -0.83958485 -0.59118152 -0.9568883  -0.22232569\n",
                        " -0.61991511  1.83790458 -2.05323076  0.86858305 -0.92073444 -0.23231186\n",
                        "  2.1529569  -1.33466147  0.07637965 -1.24608928  1.20227231 -1.04994158\n",
                        "  1.05661011 -0.41967767  2.29484234 -2.59448738  2.8227564   0.68088892\n",
                        " -1.57769345 -1.97625359  0.53333982 -0.29086971 -0.51351967  1.98262608\n",
                        "  0.22600105 -1.83990496  1.60767083  0.38829194  0.39973206  0.4054766\n",
                        "  0.21700177 -0.6334391   0.24662153 -1.93954552  0.11405963 -1.8853414\n",
                        "  0.24308048 -0.70548067  0.36462762 -0.50295216 -0.22575155 -0.56553773\n",
                        "  0.10339501  2.01840842  1.09424827  1.6624344  -0.62745348  1.62119964\n",
                        "  1.17813267 -0.37487875 -0.54432898  0.28776118 -0.20581999  1.18998786\n",
                        "  0.72892688 -0.22204012 -1.62270578  0.31254055 -1.16042141  0.31355968\n",
                        "  0.47199786  0.57786171  0.50540675 -0.62648777 -0.34636933 -2.06594183\n",
                        "  0.76893629  1.12886631  0.16692354 -0.96725539  0.49199625 -0.55085717\n",
                        " -0.08469407  1.96756834 -0.06267511 -0.85113578  0.42652063 -0.27756074\n",
                        " -1.37794456 -0.09519641  0.83363873 -0.78475445  1.04614478 -0.645784\n",
                        " -1.89157934 -0.09733285 -1.35889534  0.49830983 -1.14732055 -0.53652108\n",
                        " -0.91648938 -0.21214793  0.19284449 -0.32268305] and the  Main Metrics and Statistical measures for it are:\n",
                        "Mean: -0.051500969332526\n",
                        "Standard Deviation: 1.083568563267722\n",
                        "Median: -0.09626463210302683\n",
                        "Variance: 1.1741208313020757\n",
                        "The Chi-Square Distribution is[ 4.4036977   3.43357991  2.43865116  3.76468546  1.74738374  2.87304496\n",
                        "  1.25990264  1.98658061  2.7382904   2.40379373  6.43281884  1.35117521\n",
                        "  8.7849878  13.06470946  1.7418934   2.67968429  1.02479675  1.67765141\n",
                        "  1.06959774  0.32544055 10.02554874  0.68163247  3.39104851  1.08370858\n",
                        "  1.9876063   1.34763536  1.6517412   8.21316019  1.48801337  4.76964702\n",
                        "  4.9766      1.96968626  0.87373953  3.55316881  2.3748913   0.79432302\n",
                        "  0.7701773   3.68548924  3.2519995  10.09726069  3.06195584  4.94862294\n",
                        "  8.40693551  8.2386102   0.51444887  1.57892549  9.45502228  6.76435901\n",
                        "  0.08425656  4.31558523  0.53234731  6.0103969   1.6261617   6.64144191\n",
                        "  5.66904724  2.45959271  1.31656293  5.12092043  9.13811987  0.02222266\n",
                        "  1.50610432  1.57706424  3.32373864  1.99068763  6.89886783  2.93937469\n",
                        "  0.78214448  1.80647672  0.62057492  3.73253103  6.79628785  5.09298138\n",
                        "  4.54692477  1.54790254  2.34164297  0.80446453  3.46601364  0.68885048\n",
                        "  0.68235736  8.19098932  3.05658688  3.85504193  1.97097259  2.02332414\n",
                        "  2.90044156  3.14758326  7.51373069  2.52268567  0.96407427  0.66239969\n",
                        "  2.55400914  1.26706758  4.04029785  1.91665878  1.57053958  0.1736914\n",
                        "  2.77972265  5.91638755  2.69140858  6.50403792] and the  Main Metrics and Statistical measures for it are:\n",
                        "Mean: 3.35461619770656\n",
                        "Standard Deviation: 2.696252896948903\n",
                        "Median: 2.5383474082247273\n",
                        "Variance: 7.269779684305352\n"
                    ]
                },
                {
                    "data": {
                        "text/plain": [
                            "<function print(*args, sep=' ', end='\\n', file=None, flush=False)>"
                        ]
                    },
                    "execution_count": 2,
                    "metadata": {},
                    "output_type": "execute_result"
                }
            ],
            "source": [
                "# TODO\n",
                "import numpy as np\n",
                "import pandas as pd\n",
                "\n",
                "np.random.seed(25)\n",
                "\n",
                "normal = np.random.normal(size=100)\n",
                "chi_square = np.random.chisquare(3,100)\n",
                "\n",
                "\n",
                "\n",
                "normal_mean = np.mean(normal)\n",
                "normal_std = np.std(normal)\n",
                "normal_median = np.median(normal)\n",
                "normal_variance = np.var(normal)\n",
                "\n",
                "chi_square_mean = np.mean(chi_square)\n",
                "chi_square_std = np.std(chi_square)\n",
                "chi_square_median = np.median(chi_square)\n",
                "chi_square_variance = np.var(chi_square)\n",
                "\n",
                "print(f\"The Normal Distribution is{normal} and the  Main Metrics and Statistical measures for it are:\")\n",
                "print(f\"Mean: {normal_mean}\")\n",
                "print(f\"Standard Deviation: {normal_std}\")\n",
                "print(f\"Median: {normal_median}\")\n",
                "print(f\"Variance: {normal_variance}\")\n",
                "\n",
                "print(f\"The Chi-Square Distribution is{chi_square} and the  Main Metrics and Statistical measures for it are:\")\n",
                "print(f\"Mean: {chi_square_mean}\")\n",
                "print(f\"Standard Deviation: {chi_square_std}\")\n",
                "print(f\"Median: {chi_square_median}\")\n",
                "print(f\"Variance: {chi_square_variance}\")\n",
                "\n",
                "print"
            ]
        },
        {
            "cell_type": "markdown",
            "id": "46c70c3d",
            "metadata": {},
            "source": [
                "### Exercise 2\n",
                "\n",
                "Write a Python program to calculate the standard deviation of the following data:\n",
                "\n",
                "```py\n",
                "data = [4, 2, 5, 8, 6]\n",
                "```"
            ]
        },
        {
            "cell_type": "code",
            "execution_count": 1,
            "id": "d590308e",
            "metadata": {},
            "outputs": [
                {
                    "name": "stdout",
                    "output_type": "stream",
                    "text": [
                        "Standard Deviation:2.0\n"
                    ]
                }
            ],
            "source": [
                "# TODO\n",
                "\n",
                "import math\n",
                "\n",
                "data = [4,2,5,8,6]\n",
                "\n",
                "\n",
                "mean = sum(data) / len(data)\n",
                "variance = sum((x - mean) ** 2 for x in data) / len(data)\n",
                "\n",
                "\n",
                "std = math.sqrt(variance)\n",
                "\n",
                "print(f\"Standard Deviation:{std}\")\n"
            ]
        }
    ],
    "metadata": {
        "interpreter": {
            "hash": "9248718ffe6ce6938b217e69dbcc175ea21f4c6b28a317e96c05334edae734bb"
        },
        "kernelspec": {
            "display_name": "Python 3.9.12 ('ML-BOOTCAMP')",
            "language": "python",
            "name": "python3"
        },
        "language_info": {
            "codemirror_mode": {
                "name": "ipython",
                "version": 3
            },
            "file_extension": ".py",
            "mimetype": "text/x-python",
            "name": "python",
            "nbconvert_exporter": "python",
            "pygments_lexer": "ipython3",
            "version": "3.11.4"
        }
    },
    "nbformat": 4,
    "nbformat_minor": 5
}
