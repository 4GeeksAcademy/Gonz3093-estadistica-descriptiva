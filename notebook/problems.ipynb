{
    "cells": [
        {
            "cell_type": "markdown",
            "id": "ac622319",
            "metadata": {},
            "source": [
                "# Descriptive statistics problems"
            ]
        },
        {
            "cell_type": "markdown",
            "id": "5e0ab0d5",
            "metadata": {},
            "source": [
                "### Exercise 1\n",
                "\n",
                "We will use NumPy to obtain information to describe statistically.\n",
                "\n",
                "- Generate an array of 100 elements following a normal distribution.\n",
                "- Generate an array of 100 elements following a chi-square distribution with 3 degrees of freedom.\n",
                "- Calculate the main metrics and statistical measures that best describe the two vectors."
            ]
        },
        {
            "cell_type": "code",
            "execution_count": 1,
            "id": "34720ab6",
            "metadata": {},
            "outputs": [
                {
                    "name": "stdout",
                    "output_type": "stream",
                    "text": [
                        "Mediana de array normal: -0.022391902780748874\n",
                        "Mediana de array chi: 3.0567587959236855\n",
                        "Media de array normal: -0.05237194748456798\n",
                        "Media de array chi: 3.6209611389375183\n",
                        "Moda de array normal: 1.1151385022266151\n",
                        "Moda de array chi: 0.9395751268334924\n",
                        "El rango del array normal es: 4.091773130272832\n",
                        "El rango del array chi es: 11.410794704327408\n",
                        "la variacion normal del array normal es:  0.9221713598811796\n",
                        "la variacion normal del array chi es:  7.97710446769979\n",
                        "el desvio estandar del array normal es:  0.9602975371629251\n",
                        "el desvio estandar del array chi es:  2.824376828204726\n"
                    ]
                }
            ],
            "source": [
                "import numpy as np\n",
                "import statistics as stats\n",
                "from scipy.stats import skew\n",
                "from scipy.stats import kurtosis\n",
                "\n",
                "\n",
                "array_normal = np.random.normal(size=100)\n",
                "#print(array_normal)\n",
                "\n",
                "array_chi = np.random.chisquare(df=3, size = 100)\n",
                "#print(array_chi)\n",
                "\n",
                "\n",
                "#Mediana\n",
                "\n",
                "print (f\"Mediana de array normal: {stats.median(array_normal)}\")\n",
                "print (f\"Mediana de array chi: {stats.median(array_chi)}\")\n",
                "\n",
                "#Media \n",
                "\n",
                "print (f\"Media de array normal: {stats.mean(array_normal)}\")\n",
                "print (f\"Media de array chi: {stats.mean(array_chi)}\")\n",
                "\n",
                "#Moda\n",
                "\n",
                "print (f\"Moda de array normal: {stats.mode(array_normal)}\")\n",
                "print (f\"Moda de array chi: {stats.mode(array_chi)}\")\n",
                "\n",
                "#Rango\n",
                "\n",
                "rango_normal = max(array_normal) - min (array_normal)\n",
                "rango_chi = max(array_chi) - min (array_chi)\n",
                "\n",
                "print(f\"El rango del array normal es: {rango_normal}\")\n",
                "print(f\"El rango del array chi es: {rango_chi}\")\n",
                "\n",
                "#Variance \n",
                "\n",
                "var_normal = stats.variance(array_normal)\n",
                "std_variance_normal = stats.stdev(array_normal)\n",
                "\n",
                "var_chi = stats.variance(array_chi)\n",
                "std_variance_chi = stats.stdev(array_chi)\n",
                "\n",
                "print(f\"la variacion normal del array normal es:  {var_normal}\")\n",
                "print(f\"la variacion normal del array chi es:  {var_chi}\")\n",
                "print(f\"el desvio estandar del array normal es:  {std_variance_normal}\")\n",
                "print(f\"el desvio estandar del array chi es:  {std_variance_chi}\")"
            ]
        },
        {
            "cell_type": "markdown",
            "id": "46c70c3d",
            "metadata": {},
            "source": [
                "### Exercise 2\n",
                "\n",
                "Write a Python program to calculate the standard deviation of the following data:\n",
                "\n",
                "```py\n",
                "data = [4, 2, 5, 8, 6]\n",
                "```"
            ]
        },
        {
            "cell_type": "code",
            "execution_count": 2,
            "id": "d590308e",
            "metadata": {},
            "outputs": [
                {
                    "name": "stdout",
                    "output_type": "stream",
                    "text": [
                        "2.23606797749979\n"
                    ]
                }
            ],
            "source": [
                "def desv_std (data):\n",
                "    n=len(data)\n",
                "    mean = sum(data)/n\n",
                "    variance = sum((x - mean) ** 2 for x in data) / (n - 1)\n",
                "    std_dev = variance ** 0.5\n",
                "    return std_dev\n",
                "\n",
                "data = [4,2,5,8,6]\n",
                "\n",
                "print(desv_std(data))"
            ]
        }
    ],
    "metadata": {
        "interpreter": {
            "hash": "9248718ffe6ce6938b217e69dbcc175ea21f4c6b28a317e96c05334edae734bb"
        },
        "kernelspec": {
            "display_name": "Python 3.9.12 ('ML-BOOTCAMP')",
            "language": "python",
            "name": "python3"
        },
        "language_info": {
            "codemirror_mode": {
                "name": "ipython",
                "version": 3
            },
            "file_extension": ".py",
            "mimetype": "text/x-python",
            "name": "python",
            "nbconvert_exporter": "python",
            "pygments_lexer": "ipython3",
            "version": "3.11.4"
        }
    },
    "nbformat": 4,
    "nbformat_minor": 5
}
